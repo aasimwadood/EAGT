{
 "cells": [
  {
   "cell_type": "markdown",
   "id": "0931fbf8",
   "metadata": {},
   "source": [
    "# Teacher Dashboard Analytics — Synthetic Demo"
   ]
  },
  {
   "cell_type": "code",
   "execution_count": null,
   "id": "576a1f68",
   "metadata": {},
   "outputs": [],
   "source": [
    "import pandas as pd, numpy as np, altair as alt\n",
    "np.random.seed(7)\n",
    "students=[f'S{i:02d}' for i in range(1,11)]\n",
    "aff=['frustration','confusion','boredom','engagement']\n",
    "rows=[]\n",
    "for s in students:\n",
    "  t=np.arange(1,31); a=np.random.choice(aff,size=t.size,p=[0.15,0.35,0.15,0.35])\n",
    "  emap={'frustration':0.4,'confusion':0.55,'boredom':0.3,'engagement':0.85}\n",
    "  e=[emap[x] for x in a]; rows+=list(zip([s]*len(t),t,a,e))\n",
    "df=pd.DataFrame(rows,columns=['student','step','affect','engagement'])\n",
    "df['ema']=df.groupby('student')['engagement'].transform(lambda s: s.ewm(span=4,adjust=False).mean())\n",
    "alt.Chart(df).mark_line().encode(x='step:Q', y='ema:Q', color='student:N').properties(height=300)\n"
   ]
  }
 ],
 "metadata": {
  "kernelspec": {
   "display_name": "Python 3",
   "language": "python",
   "name": "python3"
  }
 },
 "nbformat": 4,
 "nbformat_minor": 5
}
