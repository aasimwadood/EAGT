{
 "cells": [
  {
   "cell_type": "markdown",
   "id": "59f396c5",
   "metadata": {},
   "source": [
    "# Streamlit App Walkthrough"
   ]
  },
  {
   "cell_type": "markdown",
   "id": "9cbf6fb9",
   "metadata": {},
   "source": [
    "Run the app:\n",
    "```\n",
    "streamlit run ui/streamlit_app.py --server.runOnSave true\n",
    "```\n",
    "Features: consent gate, RAG uploads, strategy badges, chat, teacher dashboard, risk flags, PDF export, local detectors."
   ]
  }
 ],
 "metadata": {
  "kernelspec": {
   "display_name": "Python 3",
   "language": "python",
   "name": "python3"
  }
 },
 "nbformat": 4,
 "nbformat_minor": 5
}
