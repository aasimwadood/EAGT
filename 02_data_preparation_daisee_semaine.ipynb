{
 "cells": [
  {
   "cell_type": "markdown",
   "id": "ba8a57bb",
   "metadata": {},
   "source": [
    "# Data Preparation — DAiSEE & SEMAINE"
   ]
  },
  {
   "cell_type": "code",
   "execution_count": null,
   "id": "b996e3fa",
   "metadata": {},
   "outputs": [],
   "source": [
    "from pathlib import Path\n",
    "import pandas as pd, csv, subprocess\n",
    "\n",
    "def have_ffmpeg():\n",
    "    try:\n",
    "        subprocess.run(['ffmpeg','-version'], stdout=subprocess.DEVNULL, stderr=subprocess.DEVNULL)\n",
    "        return True\n",
    "    except Exception:\n",
    "        return False\n"
   ]
  },
  {
   "cell_type": "code",
   "execution_count": null,
   "id": "842766f9",
   "metadata": {},
   "outputs": [],
   "source": [
    "def build_daisee(root: Path, out_csv: Path):\n",
    "    clips = root/'Clips'; labels = root/'Labels'\n",
    "    assert clips.exists() and labels.exists(), 'DAiSEE root must contain Clips/ and Labels/'\n",
    "    rows=[]\n",
    "    for phase in ['Train','Validation','Test']:\n",
    "        vdir = clips/phase; ldir = labels/phase\n",
    "        if not vdir.exists(): continue\n",
    "        for vid in vdir.glob('*.avi'):\n",
    "            lab = ldir/(vid.stem+'.txt')\n",
    "            label = lab.read_text().strip().lower() if lab.exists() else ''\n",
    "            rows.append([str(vid), '', '', label])\n",
    "    out_csv.parent.mkdir(parents=True, exist_ok=True)\n",
    "    with open(out_csv,'w',newline='') as f:\n",
    "        w=csv.writer(f); w.writerow(['video_path','audio_path','behav_json','label']); w.writerows(rows)\n",
    "    return out_csv"
   ]
  },
  {
   "cell_type": "markdown",
   "id": "c03c27ce",
   "metadata": {},
   "source": [
    "Call `build_daisee(Path('/data/DAiSEE'), Path('configs/daisee_split.csv'))`."
   ]
  }
 ],
 "metadata": {
  "kernelspec": {
   "display_name": "Python 3",
   "language": "python",
   "name": "python3"
  }
 },
 "nbformat": 4,
 "nbformat_minor": 5
}
