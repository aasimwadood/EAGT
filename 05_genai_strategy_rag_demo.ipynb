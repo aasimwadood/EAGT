{
 "cells": [
  {
   "cell_type": "markdown",
   "id": "57df7468",
   "metadata": {},
   "source": [
    "# GenAI Strategy + RAG (Toy)"
   ]
  },
  {
   "cell_type": "code",
   "execution_count": null,
   "id": "cd7e3a87",
   "metadata": {},
   "outputs": [],
   "source": [
    "from dataclasses import dataclass\n",
    "@dataclass\n",
    "class Strategy: name:str; style:str; pedagogy:str\n",
    "def map_affect_to_strategy(affect):\n",
    "  a=affect.lower();\n",
    "  return dict(\n",
    "    frustration=Strategy('Scaffold','step-by-step, calm','break into steps; validate effort; short wins'),\n",
    "    confusion=Strategy('Clarify','concise, precise','diagnose misconception; use analogy; minimal example'),\n",
    "    boredom=Strategy('Gamify','energetic, novel','novelty; challenge; micro-goals'),\n",
    "  ).get(a, Strategy('Enrich','inquisitive, deep','deepen concept; applications; reflection'))\n",
    "def generate(question, strat):\n",
    "  return f'[{strat.name}] ({strat.style})\\nPedagogy: {strat.pedagogy}\\n\\nQ: {question}\\nA: ...'\n",
    "print(generate('Explain variance intuitively', map_affect_to_strategy('boredom')))\n"
   ]
  }
 ],
 "metadata": {
  "kernelspec": {
   "display_name": "Python 3",
   "language": "python",
   "name": "python3"
  }
 },
 "nbformat": 4,
 "nbformat_minor": 5
}
