{
 "cells": [
  {
   "cell_type": "markdown",
   "id": "ec18c1ff",
   "metadata": {},
   "source": [
    "# Evaluation — Confusion Matrix"
   ]
  },
  {
   "cell_type": "code",
   "execution_count": null,
   "id": "4db6666b",
   "metadata": {},
   "outputs": [],
   "source": [
    "import numpy as np, matplotlib.pyplot as plt\n",
    "from sklearn.metrics import confusion_matrix, classification_report\n",
    "labels=['frustration','confusion','boredom','engagement']\n",
    "y_true=np.random.choice(labels,200); y_pred=np.random.choice(labels,200)\n",
    "cm=confusion_matrix(y_true,y_pred,labels=labels)\n",
    "print(classification_report(y_true,y_pred,target_names=labels))\n",
    "fig=plt.figure(figsize=(5,4)); plt.imshow(cm,cmap='Blues');\n",
    "plt.xticks(range(4),labels,rotation=45); plt.yticks(range(4),labels)\n",
    "for i in range(4):\n",
    "  for j in range(4): plt.text(j,i,cm[i,j],ha='center',va='center')\n",
    "plt.title('Confusion Matrix'); plt.xlabel('Predicted'); plt.ylabel('True'); plt.tight_layout(); plt.show()\n"
   ]
  }
 ],
 "metadata": {
  "kernelspec": {
   "display_name": "Python 3",
   "language": "python",
   "name": "python3"
  }
 },
 "nbformat": 4,
 "nbformat_minor": 5
}
