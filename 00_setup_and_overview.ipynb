{
 "cells": [
  {
   "cell_type": "markdown",
   "id": "f4629dc7",
   "metadata": {},
   "source": [
    "# EAGT — Emotion‑Aware Generative AI Tutor\n",
    "This notebook suite covers setup, data prep (DAiSEE/SEMAINE), multimodal affect recognition, strategy mapping, generative explanation with RAG, evaluation, and a Streamlit UI + teacher dashboard.\n"
   ]
  },
  {
   "cell_type": "markdown",
   "id": "aba044f7",
   "metadata": {},
   "source": [
    "## Install (optional)\n",
    "```bash\n",
    "pip install torch torchvision torchaudio transformers streamlit altair reportlab soundfile pydub scikit-learn matplotlib pyyaml\n",
    "```\n"
   ]
  },
  {
   "cell_type": "markdown",
   "id": "a7776bc0",
   "metadata": {},
   "source": [
    "## Notebooks\n",
    "1. 02_data_preparation_daisee_semaine.ipynb\n",
    "2. 03_model_training.ipynb\n",
    "3. 04_evaluation_metrics_confusion_matrix.ipynb\n",
    "4. 05_genai_strategy_rag_demo.ipynb\n",
    "5. 06_streamlit_app_walkthrough.ipynb\n",
    "6. 07_teacher_dashboard_analytics.ipynb"
   ]
  }
 ],
 "metadata": {
  "kernelspec": {
   "display_name": "Python 3",
   "language": "python",
   "name": "python3"
  }
 },
 "nbformat": 4,
 "nbformat_minor": 5
}
